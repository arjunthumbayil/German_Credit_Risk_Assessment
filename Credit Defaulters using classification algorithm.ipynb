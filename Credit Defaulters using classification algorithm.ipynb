{
 "cells": [
  {
   "cell_type": "markdown",
   "metadata": {},
   "source": [
    "# Credit defaulters identification using Logistic Regression"
   ]
  },
  {
   "cell_type": "markdown",
   "metadata": {},
   "source": [
    "Introduction to the data set"
   ]
  },
  {
   "cell_type": "markdown",
   "metadata": {},
   "source": [
    "German credit rating dataset contains categorical/symbolic attributes of the persons who availed the credit and the current status of the credit. The status of the credit is indicated by 1 for good credits and 2 for bad credits.\n",
    "\n",
    "The dataset can be downloaded from UCI Repository.\n",
    "\n",
    "https://archive.ics.uci.edu/ml/datasets/Statlog+%28German+Credit+Data%29\n",
    "\n",
    "The detailed description of variables can be found at the same link."
   ]
  },
  {
   "cell_type": "markdown",
   "metadata": {},
   "source": [
    "### Read the data set"
   ]
  },
  {
   "cell_type": "code",
   "execution_count": 1,
   "metadata": {},
   "outputs": [],
   "source": [
    "import pandas as pd\n",
    "import numpy as np\n",
    "\n",
    "import warnings\n",
    "warnings.filterwarnings('ignore')\n",
    "\n",
    "import pandas as pd\n",
    "from sklearn.linear_model import LogisticRegression\n",
    "\n",
    "# importing ploting libraries\n",
    "import matplotlib.pyplot as plt   \n",
    "\n",
    "#importing seaborn for statistical plots\n",
    "import seaborn as sns\n",
    "\n",
    "#Let us break the X and y dataframes into training set and test set. For this we will use\n",
    "#Sklearn package's data splitting function which is based on random function\n",
    "\n",
    "from sklearn.model_selection import train_test_split\n",
    "\n",
    "import numpy as np\n",
    "\n",
    "\n",
    "# calculate accuracy measures and confusion matrix\n",
    "from sklearn import metrics\n"
   ]
  },
  {
   "cell_type": "code",
   "execution_count": 2,
   "metadata": {},
   "outputs": [],
   "source": [
    "data = pd.read_csv( \"germanCreditDefault.csv\" )"
   ]
  },
  {
   "cell_type": "code",
   "execution_count": 3,
   "metadata": {},
   "outputs": [
    {
     "data": {
      "text/html": [
       "<div>\n",
       "<style scoped>\n",
       "    .dataframe tbody tr th:only-of-type {\n",
       "        vertical-align: middle;\n",
       "    }\n",
       "\n",
       "    .dataframe tbody tr th {\n",
       "        vertical-align: top;\n",
       "    }\n",
       "\n",
       "    .dataframe thead th {\n",
       "        text-align: right;\n",
       "    }\n",
       "</style>\n",
       "<table border=\"1\" class=\"dataframe\">\n",
       "  <thead>\n",
       "    <tr style=\"text-align: right;\">\n",
       "      <th></th>\n",
       "      <th>checking_balance</th>\n",
       "      <th>months_loan_duration</th>\n",
       "      <th>credit_history</th>\n",
       "      <th>purpose</th>\n",
       "      <th>amount</th>\n",
       "      <th>savings_balance</th>\n",
       "      <th>employment_duration</th>\n",
       "      <th>percent_of_income</th>\n",
       "      <th>years_at_residence</th>\n",
       "      <th>age</th>\n",
       "      <th>other_credit</th>\n",
       "      <th>housing</th>\n",
       "      <th>existing_loans_count</th>\n",
       "      <th>job</th>\n",
       "      <th>dependents</th>\n",
       "      <th>phone</th>\n",
       "      <th>default</th>\n",
       "    </tr>\n",
       "  </thead>\n",
       "  <tbody>\n",
       "    <tr>\n",
       "      <th>0</th>\n",
       "      <td>&lt; 0 DM</td>\n",
       "      <td>6</td>\n",
       "      <td>critical</td>\n",
       "      <td>furniture/appliances</td>\n",
       "      <td>1169</td>\n",
       "      <td>unknown</td>\n",
       "      <td>&gt; 7 years</td>\n",
       "      <td>4</td>\n",
       "      <td>4</td>\n",
       "      <td>67</td>\n",
       "      <td>none</td>\n",
       "      <td>own</td>\n",
       "      <td>2</td>\n",
       "      <td>skilled</td>\n",
       "      <td>1</td>\n",
       "      <td>yes</td>\n",
       "      <td>no</td>\n",
       "    </tr>\n",
       "    <tr>\n",
       "      <th>1</th>\n",
       "      <td>1 - 200 DM</td>\n",
       "      <td>48</td>\n",
       "      <td>good</td>\n",
       "      <td>furniture/appliances</td>\n",
       "      <td>5951</td>\n",
       "      <td>&lt; 100 DM</td>\n",
       "      <td>1 - 4 years</td>\n",
       "      <td>2</td>\n",
       "      <td>2</td>\n",
       "      <td>22</td>\n",
       "      <td>none</td>\n",
       "      <td>own</td>\n",
       "      <td>1</td>\n",
       "      <td>skilled</td>\n",
       "      <td>1</td>\n",
       "      <td>no</td>\n",
       "      <td>yes</td>\n",
       "    </tr>\n",
       "  </tbody>\n",
       "</table>\n",
       "</div>"
      ],
      "text/plain": [
       "  checking_balance  months_loan_duration credit_history               purpose  \\\n",
       "0           < 0 DM                     6       critical  furniture/appliances   \n",
       "1       1 - 200 DM                    48           good  furniture/appliances   \n",
       "\n",
       "   amount savings_balance employment_duration  percent_of_income  \\\n",
       "0    1169         unknown           > 7 years                  4   \n",
       "1    5951        < 100 DM         1 - 4 years                  2   \n",
       "\n",
       "   years_at_residence  age other_credit housing  existing_loans_count  \\\n",
       "0                   4   67         none     own                     2   \n",
       "1                   2   22         none     own                     1   \n",
       "\n",
       "       job  dependents phone default  \n",
       "0  skilled           1   yes      no  \n",
       "1  skilled           1    no     yes  "
      ]
     },
     "execution_count": 3,
     "metadata": {},
     "output_type": "execute_result"
    }
   ],
   "source": [
    "data.head(2)"
   ]
  },
  {
   "cell_type": "code",
   "execution_count": 4,
   "metadata": {},
   "outputs": [],
   "source": [
    "columns = ['checkin_acc', 'duration', 'credit_history', 'purpose', 'amount', 'svaing_acc', 'present_emp_since', \n",
    "           'inst_rate', 'personal_status', 'other_debtors', 'residing_since', 'property', 'age','inst_plans', 'housing', \n",
    "           'num_credits', 'job', 'dependents', 'telephone', 'foreign_worker', 'status']"
   ]
  },
  {
   "cell_type": "code",
   "execution_count": 5,
   "metadata": {},
   "outputs": [],
   "source": [
    "#data.columns = columns"
   ]
  },
  {
   "cell_type": "code",
   "execution_count": 6,
   "metadata": {},
   "outputs": [
    {
     "data": {
      "text/html": [
       "<div>\n",
       "<style scoped>\n",
       "    .dataframe tbody tr th:only-of-type {\n",
       "        vertical-align: middle;\n",
       "    }\n",
       "\n",
       "    .dataframe tbody tr th {\n",
       "        vertical-align: top;\n",
       "    }\n",
       "\n",
       "    .dataframe thead th {\n",
       "        text-align: right;\n",
       "    }\n",
       "</style>\n",
       "<table border=\"1\" class=\"dataframe\">\n",
       "  <thead>\n",
       "    <tr style=\"text-align: right;\">\n",
       "      <th></th>\n",
       "      <th>checking_balance</th>\n",
       "      <th>months_loan_duration</th>\n",
       "      <th>credit_history</th>\n",
       "      <th>purpose</th>\n",
       "      <th>amount</th>\n",
       "      <th>savings_balance</th>\n",
       "      <th>employment_duration</th>\n",
       "      <th>percent_of_income</th>\n",
       "      <th>years_at_residence</th>\n",
       "      <th>age</th>\n",
       "      <th>other_credit</th>\n",
       "      <th>housing</th>\n",
       "      <th>existing_loans_count</th>\n",
       "      <th>job</th>\n",
       "      <th>dependents</th>\n",
       "      <th>phone</th>\n",
       "      <th>default</th>\n",
       "    </tr>\n",
       "  </thead>\n",
       "  <tbody>\n",
       "    <tr>\n",
       "      <th>0</th>\n",
       "      <td>&lt; 0 DM</td>\n",
       "      <td>6</td>\n",
       "      <td>critical</td>\n",
       "      <td>furniture/appliances</td>\n",
       "      <td>1169</td>\n",
       "      <td>unknown</td>\n",
       "      <td>&gt; 7 years</td>\n",
       "      <td>4</td>\n",
       "      <td>4</td>\n",
       "      <td>67</td>\n",
       "      <td>none</td>\n",
       "      <td>own</td>\n",
       "      <td>2</td>\n",
       "      <td>skilled</td>\n",
       "      <td>1</td>\n",
       "      <td>yes</td>\n",
       "      <td>no</td>\n",
       "    </tr>\n",
       "    <tr>\n",
       "      <th>1</th>\n",
       "      <td>1 - 200 DM</td>\n",
       "      <td>48</td>\n",
       "      <td>good</td>\n",
       "      <td>furniture/appliances</td>\n",
       "      <td>5951</td>\n",
       "      <td>&lt; 100 DM</td>\n",
       "      <td>1 - 4 years</td>\n",
       "      <td>2</td>\n",
       "      <td>2</td>\n",
       "      <td>22</td>\n",
       "      <td>none</td>\n",
       "      <td>own</td>\n",
       "      <td>1</td>\n",
       "      <td>skilled</td>\n",
       "      <td>1</td>\n",
       "      <td>no</td>\n",
       "      <td>yes</td>\n",
       "    </tr>\n",
       "  </tbody>\n",
       "</table>\n",
       "</div>"
      ],
      "text/plain": [
       "  checking_balance  months_loan_duration credit_history               purpose  \\\n",
       "0           < 0 DM                     6       critical  furniture/appliances   \n",
       "1       1 - 200 DM                    48           good  furniture/appliances   \n",
       "\n",
       "   amount savings_balance employment_duration  percent_of_income  \\\n",
       "0    1169         unknown           > 7 years                  4   \n",
       "1    5951        < 100 DM         1 - 4 years                  2   \n",
       "\n",
       "   years_at_residence  age other_credit housing  existing_loans_count  \\\n",
       "0                   4   67         none     own                     2   \n",
       "1                   2   22         none     own                     1   \n",
       "\n",
       "       job  dependents phone default  \n",
       "0  skilled           1   yes      no  \n",
       "1  skilled           1    no     yes  "
      ]
     },
     "execution_count": 6,
     "metadata": {},
     "output_type": "execute_result"
    }
   ],
   "source": [
    "data.head(2)"
   ]
  },
  {
   "cell_type": "code",
   "execution_count": 7,
   "metadata": {},
   "outputs": [
    {
     "data": {
      "text/html": [
       "<div>\n",
       "<style scoped>\n",
       "    .dataframe tbody tr th:only-of-type {\n",
       "        vertical-align: middle;\n",
       "    }\n",
       "\n",
       "    .dataframe tbody tr th {\n",
       "        vertical-align: top;\n",
       "    }\n",
       "\n",
       "    .dataframe thead th {\n",
       "        text-align: right;\n",
       "    }\n",
       "</style>\n",
       "<table border=\"1\" class=\"dataframe\">\n",
       "  <thead>\n",
       "    <tr style=\"text-align: right;\">\n",
       "      <th></th>\n",
       "      <th>0</th>\n",
       "      <th>1</th>\n",
       "      <th>2</th>\n",
       "      <th>3</th>\n",
       "      <th>4</th>\n",
       "    </tr>\n",
       "  </thead>\n",
       "  <tbody>\n",
       "    <tr>\n",
       "      <th>checking_balance</th>\n",
       "      <td>&lt; 0 DM</td>\n",
       "      <td>1 - 200 DM</td>\n",
       "      <td>unknown</td>\n",
       "      <td>&lt; 0 DM</td>\n",
       "      <td>&lt; 0 DM</td>\n",
       "    </tr>\n",
       "    <tr>\n",
       "      <th>months_loan_duration</th>\n",
       "      <td>6</td>\n",
       "      <td>48</td>\n",
       "      <td>12</td>\n",
       "      <td>42</td>\n",
       "      <td>24</td>\n",
       "    </tr>\n",
       "    <tr>\n",
       "      <th>credit_history</th>\n",
       "      <td>critical</td>\n",
       "      <td>good</td>\n",
       "      <td>critical</td>\n",
       "      <td>good</td>\n",
       "      <td>poor</td>\n",
       "    </tr>\n",
       "    <tr>\n",
       "      <th>purpose</th>\n",
       "      <td>furniture/appliances</td>\n",
       "      <td>furniture/appliances</td>\n",
       "      <td>education</td>\n",
       "      <td>furniture/appliances</td>\n",
       "      <td>car</td>\n",
       "    </tr>\n",
       "    <tr>\n",
       "      <th>amount</th>\n",
       "      <td>1169</td>\n",
       "      <td>5951</td>\n",
       "      <td>2096</td>\n",
       "      <td>7882</td>\n",
       "      <td>4870</td>\n",
       "    </tr>\n",
       "    <tr>\n",
       "      <th>savings_balance</th>\n",
       "      <td>unknown</td>\n",
       "      <td>&lt; 100 DM</td>\n",
       "      <td>&lt; 100 DM</td>\n",
       "      <td>&lt; 100 DM</td>\n",
       "      <td>&lt; 100 DM</td>\n",
       "    </tr>\n",
       "    <tr>\n",
       "      <th>employment_duration</th>\n",
       "      <td>&gt; 7 years</td>\n",
       "      <td>1 - 4 years</td>\n",
       "      <td>4 - 7 years</td>\n",
       "      <td>4 - 7 years</td>\n",
       "      <td>1 - 4 years</td>\n",
       "    </tr>\n",
       "    <tr>\n",
       "      <th>percent_of_income</th>\n",
       "      <td>4</td>\n",
       "      <td>2</td>\n",
       "      <td>2</td>\n",
       "      <td>2</td>\n",
       "      <td>3</td>\n",
       "    </tr>\n",
       "    <tr>\n",
       "      <th>years_at_residence</th>\n",
       "      <td>4</td>\n",
       "      <td>2</td>\n",
       "      <td>3</td>\n",
       "      <td>4</td>\n",
       "      <td>4</td>\n",
       "    </tr>\n",
       "    <tr>\n",
       "      <th>age</th>\n",
       "      <td>67</td>\n",
       "      <td>22</td>\n",
       "      <td>49</td>\n",
       "      <td>45</td>\n",
       "      <td>53</td>\n",
       "    </tr>\n",
       "    <tr>\n",
       "      <th>other_credit</th>\n",
       "      <td>none</td>\n",
       "      <td>none</td>\n",
       "      <td>none</td>\n",
       "      <td>none</td>\n",
       "      <td>none</td>\n",
       "    </tr>\n",
       "    <tr>\n",
       "      <th>housing</th>\n",
       "      <td>own</td>\n",
       "      <td>own</td>\n",
       "      <td>own</td>\n",
       "      <td>other</td>\n",
       "      <td>other</td>\n",
       "    </tr>\n",
       "    <tr>\n",
       "      <th>existing_loans_count</th>\n",
       "      <td>2</td>\n",
       "      <td>1</td>\n",
       "      <td>1</td>\n",
       "      <td>1</td>\n",
       "      <td>2</td>\n",
       "    </tr>\n",
       "    <tr>\n",
       "      <th>job</th>\n",
       "      <td>skilled</td>\n",
       "      <td>skilled</td>\n",
       "      <td>unskilled</td>\n",
       "      <td>skilled</td>\n",
       "      <td>skilled</td>\n",
       "    </tr>\n",
       "    <tr>\n",
       "      <th>dependents</th>\n",
       "      <td>1</td>\n",
       "      <td>1</td>\n",
       "      <td>2</td>\n",
       "      <td>2</td>\n",
       "      <td>2</td>\n",
       "    </tr>\n",
       "    <tr>\n",
       "      <th>phone</th>\n",
       "      <td>yes</td>\n",
       "      <td>no</td>\n",
       "      <td>no</td>\n",
       "      <td>no</td>\n",
       "      <td>no</td>\n",
       "    </tr>\n",
       "    <tr>\n",
       "      <th>default</th>\n",
       "      <td>no</td>\n",
       "      <td>yes</td>\n",
       "      <td>no</td>\n",
       "      <td>no</td>\n",
       "      <td>yes</td>\n",
       "    </tr>\n",
       "  </tbody>\n",
       "</table>\n",
       "</div>"
      ],
      "text/plain": [
       "                                         0                     1            2  \\\n",
       "checking_balance                    < 0 DM            1 - 200 DM      unknown   \n",
       "months_loan_duration                     6                    48           12   \n",
       "credit_history                    critical                  good     critical   \n",
       "purpose               furniture/appliances  furniture/appliances    education   \n",
       "amount                                1169                  5951         2096   \n",
       "savings_balance                    unknown              < 100 DM     < 100 DM   \n",
       "employment_duration              > 7 years           1 - 4 years  4 - 7 years   \n",
       "percent_of_income                        4                     2            2   \n",
       "years_at_residence                       4                     2            3   \n",
       "age                                     67                    22           49   \n",
       "other_credit                          none                  none         none   \n",
       "housing                                own                   own          own   \n",
       "existing_loans_count                     2                     1            1   \n",
       "job                                skilled               skilled    unskilled   \n",
       "dependents                               1                     1            2   \n",
       "phone                                  yes                    no           no   \n",
       "default                                 no                   yes           no   \n",
       "\n",
       "                                         3            4  \n",
       "checking_balance                    < 0 DM       < 0 DM  \n",
       "months_loan_duration                    42           24  \n",
       "credit_history                        good         poor  \n",
       "purpose               furniture/appliances          car  \n",
       "amount                                7882         4870  \n",
       "savings_balance                   < 100 DM     < 100 DM  \n",
       "employment_duration            4 - 7 years  1 - 4 years  \n",
       "percent_of_income                        2            3  \n",
       "years_at_residence                       4            4  \n",
       "age                                     45           53  \n",
       "other_credit                          none         none  \n",
       "housing                              other        other  \n",
       "existing_loans_count                     1            2  \n",
       "job                                skilled      skilled  \n",
       "dependents                               2            2  \n",
       "phone                                   no           no  \n",
       "default                                 no          yes  "
      ]
     },
     "execution_count": 7,
     "metadata": {},
     "output_type": "execute_result"
    }
   ],
   "source": [
    "data.head().T"
   ]
  },
  {
   "cell_type": "code",
   "execution_count": 8,
   "metadata": {},
   "outputs": [
    {
     "name": "stdout",
     "output_type": "stream",
     "text": [
      "<class 'pandas.core.frame.DataFrame'>\n",
      "RangeIndex: 1000 entries, 0 to 999\n",
      "Data columns (total 17 columns):\n",
      "checking_balance        1000 non-null object\n",
      "months_loan_duration    1000 non-null int64\n",
      "credit_history          1000 non-null object\n",
      "purpose                 1000 non-null object\n",
      "amount                  1000 non-null int64\n",
      "savings_balance         1000 non-null object\n",
      "employment_duration     1000 non-null object\n",
      "percent_of_income       1000 non-null int64\n",
      "years_at_residence      1000 non-null int64\n",
      "age                     1000 non-null int64\n",
      "other_credit            1000 non-null object\n",
      "housing                 1000 non-null object\n",
      "existing_loans_count    1000 non-null int64\n",
      "job                     1000 non-null object\n",
      "dependents              1000 non-null int64\n",
      "phone                   1000 non-null object\n",
      "default                 1000 non-null object\n",
      "dtypes: int64(7), object(10)\n",
      "memory usage: 132.9+ KB\n"
     ]
    }
   ],
   "source": [
    "data.info()"
   ]
  },
  {
   "cell_type": "markdown",
   "metadata": {},
   "source": [
    "#### How many default and no default observations in the sample"
   ]
  },
  {
   "cell_type": "code",
   "execution_count": 9,
   "metadata": {},
   "outputs": [
    {
     "data": {
      "text/plain": [
       "no     700\n",
       "yes    300\n",
       "Name: default, dtype: int64"
      ]
     },
     "execution_count": 9,
     "metadata": {},
     "output_type": "execute_result"
    }
   ],
   "source": [
    "data.default.value_counts()"
   ]
  },
  {
   "cell_type": "markdown",
   "metadata": {},
   "source": [
    "There are about 300 defaults and 700 non-default observations"
   ]
  },
  {
   "cell_type": "markdown",
   "metadata": {},
   "source": [
    "### Create dummy variables for the categorical features"
   ]
  },
  {
   "cell_type": "code",
   "execution_count": 10,
   "metadata": {},
   "outputs": [
    {
     "data": {
      "text/plain": [
       "Index(['checking_balance', 'months_loan_duration', 'credit_history', 'purpose',\n",
       "       'amount', 'savings_balance', 'employment_duration', 'percent_of_income',\n",
       "       'years_at_residence', 'age', 'other_credit', 'housing',\n",
       "       'existing_loans_count', 'job', 'dependents', 'phone', 'default'],\n",
       "      dtype='object')"
      ]
     },
     "execution_count": 10,
     "metadata": {},
     "output_type": "execute_result"
    }
   ],
   "source": [
    "data.columns"
   ]
  },
  {
   "cell_type": "code",
   "execution_count": 11,
   "metadata": {},
   "outputs": [
    {
     "data": {
      "text/plain": [
       "['checking_balance',\n",
       " 'months_loan_duration',\n",
       " 'credit_history',\n",
       " 'purpose',\n",
       " 'amount',\n",
       " 'savings_balance',\n",
       " 'employment_duration',\n",
       " 'percent_of_income',\n",
       " 'years_at_residence',\n",
       " 'age',\n",
       " 'other_credit',\n",
       " 'housing',\n",
       " 'existing_loans_count',\n",
       " 'job',\n",
       " 'dependents',\n",
       " 'phone',\n",
       " 'default']"
      ]
     },
     "execution_count": 11,
     "metadata": {},
     "output_type": "execute_result"
    }
   ],
   "source": [
    "list(data.columns )"
   ]
  },
  {
   "cell_type": "markdown",
   "metadata": {},
   "source": [
    "#### Remove the response variable from the dataset"
   ]
  },
  {
   "cell_type": "code",
   "execution_count": 12,
   "metadata": {},
   "outputs": [
    {
     "data": {
      "text/plain": [
       "['checking_balance',\n",
       " 'months_loan_duration',\n",
       " 'credit_history',\n",
       " 'purpose',\n",
       " 'amount',\n",
       " 'savings_balance',\n",
       " 'employment_duration',\n",
       " 'percent_of_income',\n",
       " 'years_at_residence',\n",
       " 'age',\n",
       " 'other_credit',\n",
       " 'housing',\n",
       " 'existing_loans_count',\n",
       " 'job',\n",
       " 'dependents',\n",
       " 'phone',\n",
       " 'default']"
      ]
     },
     "execution_count": 12,
     "metadata": {},
     "output_type": "execute_result"
    }
   ],
   "source": [
    "X_features = list(data.columns )\n",
    "X_features"
   ]
  },
  {
   "cell_type": "code",
   "execution_count": 13,
   "metadata": {},
   "outputs": [],
   "source": [
    "data_complete = pd.get_dummies(data[X_features], drop_first = True )"
   ]
  },
  {
   "cell_type": "code",
   "execution_count": 14,
   "metadata": {},
   "outputs": [
    {
     "data": {
      "text/plain": [
       "36"
      ]
     },
     "execution_count": 14,
     "metadata": {},
     "output_type": "execute_result"
    }
   ],
   "source": [
    "len(data_complete.columns )"
   ]
  },
  {
   "cell_type": "code",
   "execution_count": 15,
   "metadata": {},
   "outputs": [
    {
     "data": {
      "text/html": [
       "<div>\n",
       "<style scoped>\n",
       "    .dataframe tbody tr th:only-of-type {\n",
       "        vertical-align: middle;\n",
       "    }\n",
       "\n",
       "    .dataframe tbody tr th {\n",
       "        vertical-align: top;\n",
       "    }\n",
       "\n",
       "    .dataframe thead th {\n",
       "        text-align: right;\n",
       "    }\n",
       "</style>\n",
       "<table border=\"1\" class=\"dataframe\">\n",
       "  <thead>\n",
       "    <tr style=\"text-align: right;\">\n",
       "      <th></th>\n",
       "      <th>0</th>\n",
       "      <th>1</th>\n",
       "      <th>2</th>\n",
       "      <th>3</th>\n",
       "      <th>4</th>\n",
       "    </tr>\n",
       "  </thead>\n",
       "  <tbody>\n",
       "    <tr>\n",
       "      <th>months_loan_duration</th>\n",
       "      <td>6</td>\n",
       "      <td>48</td>\n",
       "      <td>12</td>\n",
       "      <td>42</td>\n",
       "      <td>24</td>\n",
       "    </tr>\n",
       "    <tr>\n",
       "      <th>amount</th>\n",
       "      <td>1169</td>\n",
       "      <td>5951</td>\n",
       "      <td>2096</td>\n",
       "      <td>7882</td>\n",
       "      <td>4870</td>\n",
       "    </tr>\n",
       "    <tr>\n",
       "      <th>percent_of_income</th>\n",
       "      <td>4</td>\n",
       "      <td>2</td>\n",
       "      <td>2</td>\n",
       "      <td>2</td>\n",
       "      <td>3</td>\n",
       "    </tr>\n",
       "    <tr>\n",
       "      <th>years_at_residence</th>\n",
       "      <td>4</td>\n",
       "      <td>2</td>\n",
       "      <td>3</td>\n",
       "      <td>4</td>\n",
       "      <td>4</td>\n",
       "    </tr>\n",
       "    <tr>\n",
       "      <th>age</th>\n",
       "      <td>67</td>\n",
       "      <td>22</td>\n",
       "      <td>49</td>\n",
       "      <td>45</td>\n",
       "      <td>53</td>\n",
       "    </tr>\n",
       "    <tr>\n",
       "      <th>existing_loans_count</th>\n",
       "      <td>2</td>\n",
       "      <td>1</td>\n",
       "      <td>1</td>\n",
       "      <td>1</td>\n",
       "      <td>2</td>\n",
       "    </tr>\n",
       "    <tr>\n",
       "      <th>dependents</th>\n",
       "      <td>1</td>\n",
       "      <td>1</td>\n",
       "      <td>2</td>\n",
       "      <td>2</td>\n",
       "      <td>2</td>\n",
       "    </tr>\n",
       "    <tr>\n",
       "      <th>checking_balance_&lt; 0 DM</th>\n",
       "      <td>1</td>\n",
       "      <td>0</td>\n",
       "      <td>0</td>\n",
       "      <td>1</td>\n",
       "      <td>1</td>\n",
       "    </tr>\n",
       "    <tr>\n",
       "      <th>checking_balance_&gt; 200 DM</th>\n",
       "      <td>0</td>\n",
       "      <td>0</td>\n",
       "      <td>0</td>\n",
       "      <td>0</td>\n",
       "      <td>0</td>\n",
       "    </tr>\n",
       "    <tr>\n",
       "      <th>checking_balance_unknown</th>\n",
       "      <td>0</td>\n",
       "      <td>0</td>\n",
       "      <td>1</td>\n",
       "      <td>0</td>\n",
       "      <td>0</td>\n",
       "    </tr>\n",
       "    <tr>\n",
       "      <th>credit_history_good</th>\n",
       "      <td>0</td>\n",
       "      <td>1</td>\n",
       "      <td>0</td>\n",
       "      <td>1</td>\n",
       "      <td>0</td>\n",
       "    </tr>\n",
       "    <tr>\n",
       "      <th>credit_history_perfect</th>\n",
       "      <td>0</td>\n",
       "      <td>0</td>\n",
       "      <td>0</td>\n",
       "      <td>0</td>\n",
       "      <td>0</td>\n",
       "    </tr>\n",
       "    <tr>\n",
       "      <th>credit_history_poor</th>\n",
       "      <td>0</td>\n",
       "      <td>0</td>\n",
       "      <td>0</td>\n",
       "      <td>0</td>\n",
       "      <td>1</td>\n",
       "    </tr>\n",
       "    <tr>\n",
       "      <th>credit_history_very good</th>\n",
       "      <td>0</td>\n",
       "      <td>0</td>\n",
       "      <td>0</td>\n",
       "      <td>0</td>\n",
       "      <td>0</td>\n",
       "    </tr>\n",
       "    <tr>\n",
       "      <th>purpose_car</th>\n",
       "      <td>0</td>\n",
       "      <td>0</td>\n",
       "      <td>0</td>\n",
       "      <td>0</td>\n",
       "      <td>1</td>\n",
       "    </tr>\n",
       "    <tr>\n",
       "      <th>purpose_car0</th>\n",
       "      <td>0</td>\n",
       "      <td>0</td>\n",
       "      <td>0</td>\n",
       "      <td>0</td>\n",
       "      <td>0</td>\n",
       "    </tr>\n",
       "    <tr>\n",
       "      <th>purpose_education</th>\n",
       "      <td>0</td>\n",
       "      <td>0</td>\n",
       "      <td>1</td>\n",
       "      <td>0</td>\n",
       "      <td>0</td>\n",
       "    </tr>\n",
       "    <tr>\n",
       "      <th>purpose_furniture/appliances</th>\n",
       "      <td>1</td>\n",
       "      <td>1</td>\n",
       "      <td>0</td>\n",
       "      <td>1</td>\n",
       "      <td>0</td>\n",
       "    </tr>\n",
       "    <tr>\n",
       "      <th>purpose_renovations</th>\n",
       "      <td>0</td>\n",
       "      <td>0</td>\n",
       "      <td>0</td>\n",
       "      <td>0</td>\n",
       "      <td>0</td>\n",
       "    </tr>\n",
       "    <tr>\n",
       "      <th>savings_balance_500 - 1000 DM</th>\n",
       "      <td>0</td>\n",
       "      <td>0</td>\n",
       "      <td>0</td>\n",
       "      <td>0</td>\n",
       "      <td>0</td>\n",
       "    </tr>\n",
       "    <tr>\n",
       "      <th>savings_balance_&lt; 100 DM</th>\n",
       "      <td>0</td>\n",
       "      <td>1</td>\n",
       "      <td>1</td>\n",
       "      <td>1</td>\n",
       "      <td>1</td>\n",
       "    </tr>\n",
       "    <tr>\n",
       "      <th>savings_balance_&gt; 1000 DM</th>\n",
       "      <td>0</td>\n",
       "      <td>0</td>\n",
       "      <td>0</td>\n",
       "      <td>0</td>\n",
       "      <td>0</td>\n",
       "    </tr>\n",
       "    <tr>\n",
       "      <th>savings_balance_unknown</th>\n",
       "      <td>1</td>\n",
       "      <td>0</td>\n",
       "      <td>0</td>\n",
       "      <td>0</td>\n",
       "      <td>0</td>\n",
       "    </tr>\n",
       "    <tr>\n",
       "      <th>employment_duration_4 - 7 years</th>\n",
       "      <td>0</td>\n",
       "      <td>0</td>\n",
       "      <td>1</td>\n",
       "      <td>1</td>\n",
       "      <td>0</td>\n",
       "    </tr>\n",
       "    <tr>\n",
       "      <th>employment_duration_&lt; 1 year</th>\n",
       "      <td>0</td>\n",
       "      <td>0</td>\n",
       "      <td>0</td>\n",
       "      <td>0</td>\n",
       "      <td>0</td>\n",
       "    </tr>\n",
       "    <tr>\n",
       "      <th>employment_duration_&gt; 7 years</th>\n",
       "      <td>1</td>\n",
       "      <td>0</td>\n",
       "      <td>0</td>\n",
       "      <td>0</td>\n",
       "      <td>0</td>\n",
       "    </tr>\n",
       "    <tr>\n",
       "      <th>employment_duration_unemployed</th>\n",
       "      <td>0</td>\n",
       "      <td>0</td>\n",
       "      <td>0</td>\n",
       "      <td>0</td>\n",
       "      <td>0</td>\n",
       "    </tr>\n",
       "    <tr>\n",
       "      <th>other_credit_none</th>\n",
       "      <td>1</td>\n",
       "      <td>1</td>\n",
       "      <td>1</td>\n",
       "      <td>1</td>\n",
       "      <td>1</td>\n",
       "    </tr>\n",
       "    <tr>\n",
       "      <th>other_credit_store</th>\n",
       "      <td>0</td>\n",
       "      <td>0</td>\n",
       "      <td>0</td>\n",
       "      <td>0</td>\n",
       "      <td>0</td>\n",
       "    </tr>\n",
       "    <tr>\n",
       "      <th>housing_own</th>\n",
       "      <td>1</td>\n",
       "      <td>1</td>\n",
       "      <td>1</td>\n",
       "      <td>0</td>\n",
       "      <td>0</td>\n",
       "    </tr>\n",
       "    <tr>\n",
       "      <th>housing_rent</th>\n",
       "      <td>0</td>\n",
       "      <td>0</td>\n",
       "      <td>0</td>\n",
       "      <td>0</td>\n",
       "      <td>0</td>\n",
       "    </tr>\n",
       "    <tr>\n",
       "      <th>job_skilled</th>\n",
       "      <td>1</td>\n",
       "      <td>1</td>\n",
       "      <td>0</td>\n",
       "      <td>1</td>\n",
       "      <td>1</td>\n",
       "    </tr>\n",
       "    <tr>\n",
       "      <th>job_unemployed</th>\n",
       "      <td>0</td>\n",
       "      <td>0</td>\n",
       "      <td>0</td>\n",
       "      <td>0</td>\n",
       "      <td>0</td>\n",
       "    </tr>\n",
       "    <tr>\n",
       "      <th>job_unskilled</th>\n",
       "      <td>0</td>\n",
       "      <td>0</td>\n",
       "      <td>1</td>\n",
       "      <td>0</td>\n",
       "      <td>0</td>\n",
       "    </tr>\n",
       "    <tr>\n",
       "      <th>phone_yes</th>\n",
       "      <td>1</td>\n",
       "      <td>0</td>\n",
       "      <td>0</td>\n",
       "      <td>0</td>\n",
       "      <td>0</td>\n",
       "    </tr>\n",
       "    <tr>\n",
       "      <th>default_yes</th>\n",
       "      <td>0</td>\n",
       "      <td>1</td>\n",
       "      <td>0</td>\n",
       "      <td>0</td>\n",
       "      <td>1</td>\n",
       "    </tr>\n",
       "  </tbody>\n",
       "</table>\n",
       "</div>"
      ],
      "text/plain": [
       "                                    0     1     2     3     4\n",
       "months_loan_duration                6    48    12    42    24\n",
       "amount                           1169  5951  2096  7882  4870\n",
       "percent_of_income                   4     2     2     2     3\n",
       "years_at_residence                  4     2     3     4     4\n",
       "age                                67    22    49    45    53\n",
       "existing_loans_count                2     1     1     1     2\n",
       "dependents                          1     1     2     2     2\n",
       "checking_balance_< 0 DM             1     0     0     1     1\n",
       "checking_balance_> 200 DM           0     0     0     0     0\n",
       "checking_balance_unknown            0     0     1     0     0\n",
       "credit_history_good                 0     1     0     1     0\n",
       "credit_history_perfect              0     0     0     0     0\n",
       "credit_history_poor                 0     0     0     0     1\n",
       "credit_history_very good            0     0     0     0     0\n",
       "purpose_car                         0     0     0     0     1\n",
       "purpose_car0                        0     0     0     0     0\n",
       "purpose_education                   0     0     1     0     0\n",
       "purpose_furniture/appliances        1     1     0     1     0\n",
       "purpose_renovations                 0     0     0     0     0\n",
       "savings_balance_500 - 1000 DM       0     0     0     0     0\n",
       "savings_balance_< 100 DM            0     1     1     1     1\n",
       "savings_balance_> 1000 DM           0     0     0     0     0\n",
       "savings_balance_unknown             1     0     0     0     0\n",
       "employment_duration_4 - 7 years     0     0     1     1     0\n",
       "employment_duration_< 1 year        0     0     0     0     0\n",
       "employment_duration_> 7 years       1     0     0     0     0\n",
       "employment_duration_unemployed      0     0     0     0     0\n",
       "other_credit_none                   1     1     1     1     1\n",
       "other_credit_store                  0     0     0     0     0\n",
       "housing_own                         1     1     1     0     0\n",
       "housing_rent                        0     0     0     0     0\n",
       "job_skilled                         1     1     0     1     1\n",
       "job_unemployed                      0     0     0     0     0\n",
       "job_unskilled                       0     0     1     0     0\n",
       "phone_yes                           1     0     0     0     0\n",
       "default_yes                         0     1     0     0     1"
      ]
     },
     "execution_count": 15,
     "metadata": {},
     "output_type": "execute_result"
    }
   ],
   "source": [
    "data_complete.head().T"
   ]
  },
  {
   "cell_type": "code",
   "execution_count": 16,
   "metadata": {},
   "outputs": [
    {
     "name": "stdout",
     "output_type": "stream",
     "text": [
      "<class 'pandas.core.frame.DataFrame'>\n",
      "RangeIndex: 1000 entries, 0 to 999\n",
      "Data columns (total 36 columns):\n",
      "months_loan_duration               1000 non-null int64\n",
      "amount                             1000 non-null int64\n",
      "percent_of_income                  1000 non-null int64\n",
      "years_at_residence                 1000 non-null int64\n",
      "age                                1000 non-null int64\n",
      "existing_loans_count               1000 non-null int64\n",
      "dependents                         1000 non-null int64\n",
      "checking_balance_< 0 DM            1000 non-null uint8\n",
      "checking_balance_> 200 DM          1000 non-null uint8\n",
      "checking_balance_unknown           1000 non-null uint8\n",
      "credit_history_good                1000 non-null uint8\n",
      "credit_history_perfect             1000 non-null uint8\n",
      "credit_history_poor                1000 non-null uint8\n",
      "credit_history_very good           1000 non-null uint8\n",
      "purpose_car                        1000 non-null uint8\n",
      "purpose_car0                       1000 non-null uint8\n",
      "purpose_education                  1000 non-null uint8\n",
      "purpose_furniture/appliances       1000 non-null uint8\n",
      "purpose_renovations                1000 non-null uint8\n",
      "savings_balance_500 - 1000 DM      1000 non-null uint8\n",
      "savings_balance_< 100 DM           1000 non-null uint8\n",
      "savings_balance_> 1000 DM          1000 non-null uint8\n",
      "savings_balance_unknown            1000 non-null uint8\n",
      "employment_duration_4 - 7 years    1000 non-null uint8\n",
      "employment_duration_< 1 year       1000 non-null uint8\n",
      "employment_duration_> 7 years      1000 non-null uint8\n",
      "employment_duration_unemployed     1000 non-null uint8\n",
      "other_credit_none                  1000 non-null uint8\n",
      "other_credit_store                 1000 non-null uint8\n",
      "housing_own                        1000 non-null uint8\n",
      "housing_rent                       1000 non-null uint8\n",
      "job_skilled                        1000 non-null uint8\n",
      "job_unemployed                     1000 non-null uint8\n",
      "job_unskilled                      1000 non-null uint8\n",
      "phone_yes                          1000 non-null uint8\n",
      "default_yes                        1000 non-null uint8\n",
      "dtypes: int64(7), uint8(29)\n",
      "memory usage: 83.1 KB\n"
     ]
    }
   ],
   "source": [
    "data_complete.info()"
   ]
  },
  {
   "cell_type": "markdown",
   "metadata": {},
   "source": [
    "### Specify x ( independent) and y (target/dependent) features"
   ]
  },
  {
   "cell_type": "code",
   "execution_count": 17,
   "metadata": {},
   "outputs": [],
   "source": [
    "x = data_complete.drop(\"default_yes\", axis=1)\n",
    "y = data_complete[[\"default_yes\"]]"
   ]
  },
  {
   "cell_type": "markdown",
   "metadata": {},
   "source": [
    "### Split datasets into train and test datasets"
   ]
  },
  {
   "cell_type": "code",
   "execution_count": 20,
   "metadata": {},
   "outputs": [],
   "source": [
    "from sklearn.model_selection import train_test_split"
   ]
  },
  {
   "cell_type": "code",
   "execution_count": 21,
   "metadata": {},
   "outputs": [],
   "source": [
    "x_train, x_test, y_train, y_test = train_test_split( x, y, test_size = 0.3)"
   ]
  },
  {
   "cell_type": "markdown",
   "metadata": {},
   "source": [
    "### Build a logistic regression model"
   ]
  },
  {
   "cell_type": "code",
   "execution_count": 22,
   "metadata": {},
   "outputs": [],
   "source": [
    "import statsmodels.api as sm"
   ]
  },
  {
   "cell_type": "code",
   "execution_count": 23,
   "metadata": {},
   "outputs": [],
   "source": [
    "logit = sm.Logit( y_train, sm.add_constant( x_train ) )"
   ]
  },
  {
   "cell_type": "code",
   "execution_count": 24,
   "metadata": {},
   "outputs": [
    {
     "name": "stdout",
     "output_type": "stream",
     "text": [
      "Warning: Maximum number of iterations has been exceeded.\n",
      "         Current function value: inf\n",
      "         Iterations: 35\n"
     ]
    },
    {
     "name": "stderr",
     "output_type": "stream",
     "text": [
      "C:\\Users\\arjun\\Anaconda3\\lib\\site-packages\\statsmodels\\base\\model.py:508: ConvergenceWarning: Maximum Likelihood optimization failed to converge. Check mle_retvals\n",
      "  \"Check mle_retvals\", ConvergenceWarning)\n"
     ]
    }
   ],
   "source": [
    "lg = logit.fit()"
   ]
  },
  {
   "cell_type": "code",
   "execution_count": 25,
   "metadata": {},
   "outputs": [
    {
     "name": "stderr",
     "output_type": "stream",
     "text": [
      "C:\\Users\\arjun\\Anaconda3\\lib\\site-packages\\statsmodels\\base\\model.py:488: HessianInversionWarning: Inverting hessian failed, no bse or cov_params available\n",
      "  'available', HessianInversionWarning)\n",
      "C:\\Users\\arjun\\Anaconda3\\lib\\site-packages\\statsmodels\\base\\model.py:488: HessianInversionWarning: Inverting hessian failed, no bse or cov_params available\n",
      "  'available', HessianInversionWarning)\n"
     ]
    },
    {
     "data": {
      "text/html": [
       "<table class=\"simpletable\">\n",
       "<caption>Logit Regression Results</caption>\n",
       "<tr>\n",
       "  <th>Dep. Variable:</th>    <td>default_yes</td>   <th>  No. Observations:  </th>  <td>   700</td> \n",
       "</tr>\n",
       "<tr>\n",
       "  <th>Model:</th>               <td>Logit</td>      <th>  Df Residuals:      </th>  <td>   664</td> \n",
       "</tr>\n",
       "<tr>\n",
       "  <th>Method:</th>               <td>MLE</td>       <th>  Df Model:          </th>  <td>    35</td> \n",
       "</tr>\n",
       "<tr>\n",
       "  <th>Date:</th>          <td>Fri, 16 Nov 2018</td> <th>  Pseudo R-squ.:     </th>  <td>   inf</td> \n",
       "</tr>\n",
       "<tr>\n",
       "  <th>Time:</th>              <td>23:21:13</td>     <th>  Log-Likelihood:    </th> <td>    -inf</td>\n",
       "</tr>\n",
       "<tr>\n",
       "  <th>converged:</th>           <td>False</td>      <th>  LL-Null:           </th> <td>  0.0000</td>\n",
       "</tr>\n",
       "<tr>\n",
       "  <th> </th>                      <td> </td>        <th>  LLR p-value:       </th>  <td> 1.000</td> \n",
       "</tr>\n",
       "</table>\n",
       "<table class=\"simpletable\">\n",
       "<tr>\n",
       "                 <td></td>                    <th>coef</th>     <th>std err</th>      <th>z</th>      <th>P>|z|</th>  <th>[0.025</th>    <th>0.975]</th>  \n",
       "</tr>\n",
       "<tr>\n",
       "  <th>const</th>                           <td>   -1.6949</td> <td>    1.163</td> <td>   -1.458</td> <td> 0.145</td> <td>   -3.974</td> <td>    0.584</td>\n",
       "</tr>\n",
       "<tr>\n",
       "  <th>months_loan_duration</th>            <td>    0.0349</td> <td>    0.011</td> <td>    3.131</td> <td> 0.002</td> <td>    0.013</td> <td>    0.057</td>\n",
       "</tr>\n",
       "<tr>\n",
       "  <th>amount</th>                          <td> 8.651e-05</td> <td>  5.3e-05</td> <td>    1.632</td> <td> 0.103</td> <td>-1.74e-05</td> <td>    0.000</td>\n",
       "</tr>\n",
       "<tr>\n",
       "  <th>percent_of_income</th>               <td>    0.4570</td> <td>    0.106</td> <td>    4.317</td> <td> 0.000</td> <td>    0.249</td> <td>    0.664</td>\n",
       "</tr>\n",
       "<tr>\n",
       "  <th>years_at_residence</th>              <td>   -0.0243</td> <td>    0.104</td> <td>   -0.234</td> <td> 0.815</td> <td>   -0.228</td> <td>    0.179</td>\n",
       "</tr>\n",
       "<tr>\n",
       "  <th>age</th>                             <td>   -0.0202</td> <td>    0.011</td> <td>   -1.758</td> <td> 0.079</td> <td>   -0.043</td> <td>    0.002</td>\n",
       "</tr>\n",
       "<tr>\n",
       "  <th>existing_loans_count</th>            <td>    0.0059</td> <td>    0.228</td> <td>    0.026</td> <td> 0.979</td> <td>   -0.440</td> <td>    0.452</td>\n",
       "</tr>\n",
       "<tr>\n",
       "  <th>dependents</th>                      <td>    0.4338</td> <td>    0.284</td> <td>    1.530</td> <td> 0.126</td> <td>   -0.122</td> <td>    0.990</td>\n",
       "</tr>\n",
       "<tr>\n",
       "  <th>checking_balance_< 0 DM</th>         <td>    0.5306</td> <td>    0.251</td> <td>    2.111</td> <td> 0.035</td> <td>    0.038</td> <td>    1.023</td>\n",
       "</tr>\n",
       "<tr>\n",
       "  <th>checking_balance_> 200 DM</th>       <td>   -0.3724</td> <td>    0.422</td> <td>   -0.883</td> <td> 0.377</td> <td>   -1.199</td> <td>    0.455</td>\n",
       "</tr>\n",
       "<tr>\n",
       "  <th>checking_balance_unknown</th>        <td>   -1.2653</td> <td>    0.273</td> <td>   -4.633</td> <td> 0.000</td> <td>   -1.801</td> <td>   -0.730</td>\n",
       "</tr>\n",
       "<tr>\n",
       "  <th>credit_history_good</th>             <td>    0.3074</td> <td>    0.302</td> <td>    1.018</td> <td> 0.309</td> <td>   -0.285</td> <td>    0.900</td>\n",
       "</tr>\n",
       "<tr>\n",
       "  <th>credit_history_perfect</th>          <td>    0.7808</td> <td>    0.525</td> <td>    1.489</td> <td> 0.137</td> <td>   -0.247</td> <td>    1.809</td>\n",
       "</tr>\n",
       "<tr>\n",
       "  <th>credit_history_poor</th>             <td>    0.3379</td> <td>    0.403</td> <td>    0.839</td> <td> 0.401</td> <td>   -0.451</td> <td>    1.127</td>\n",
       "</tr>\n",
       "<tr>\n",
       "  <th>credit_history_very good</th>        <td>    0.7885</td> <td>    0.489</td> <td>    1.612</td> <td> 0.107</td> <td>   -0.170</td> <td>    1.747</td>\n",
       "</tr>\n",
       "<tr>\n",
       "  <th>purpose_car</th>                     <td>    0.0206</td> <td>    0.373</td> <td>    0.055</td> <td> 0.956</td> <td>   -0.711</td> <td>    0.752</td>\n",
       "</tr>\n",
       "<tr>\n",
       "  <th>purpose_car0</th>                    <td>   -0.6840</td> <td>    1.046</td> <td>   -0.654</td> <td> 0.513</td> <td>   -2.734</td> <td>    1.366</td>\n",
       "</tr>\n",
       "<tr>\n",
       "  <th>purpose_education</th>               <td>    0.2978</td> <td>    0.520</td> <td>    0.573</td> <td> 0.567</td> <td>   -0.720</td> <td>    1.316</td>\n",
       "</tr>\n",
       "<tr>\n",
       "  <th>purpose_furniture/appliances</th>    <td>    0.0406</td> <td>    0.367</td> <td>    0.111</td> <td> 0.912</td> <td>   -0.679</td> <td>    0.761</td>\n",
       "</tr>\n",
       "<tr>\n",
       "  <th>purpose_renovations</th>             <td>    0.0694</td> <td>    0.709</td> <td>    0.098</td> <td> 0.922</td> <td>   -1.320</td> <td>    1.459</td>\n",
       "</tr>\n",
       "<tr>\n",
       "  <th>savings_balance_500 - 1000 DM</th>   <td>   -0.3118</td> <td>    0.566</td> <td>   -0.551</td> <td> 0.581</td> <td>   -1.420</td> <td>    0.797</td>\n",
       "</tr>\n",
       "<tr>\n",
       "  <th>savings_balance_< 100 DM</th>        <td>    0.2659</td> <td>    0.320</td> <td>    0.830</td> <td> 0.406</td> <td>   -0.362</td> <td>    0.894</td>\n",
       "</tr>\n",
       "<tr>\n",
       "  <th>savings_balance_> 1000 DM</th>       <td>  -16.0961</td> <td>  869.503</td> <td>   -0.019</td> <td> 0.985</td> <td>-1720.291</td> <td> 1688.098</td>\n",
       "</tr>\n",
       "<tr>\n",
       "  <th>savings_balance_unknown</th>         <td>   -0.8103</td> <td>    0.415</td> <td>   -1.955</td> <td> 0.051</td> <td>   -1.623</td> <td>    0.002</td>\n",
       "</tr>\n",
       "<tr>\n",
       "  <th>employment_duration_4 - 7 years</th> <td>   -0.9450</td> <td>    0.338</td> <td>   -2.800</td> <td> 0.005</td> <td>   -1.607</td> <td>   -0.283</td>\n",
       "</tr>\n",
       "<tr>\n",
       "  <th>employment_duration_< 1 year</th>    <td>    0.3600</td> <td>    0.272</td> <td>    1.322</td> <td> 0.186</td> <td>   -0.174</td> <td>    0.894</td>\n",
       "</tr>\n",
       "<tr>\n",
       "  <th>employment_duration_> 7 years</th>   <td>   -0.3783</td> <td>    0.303</td> <td>   -1.247</td> <td> 0.212</td> <td>   -0.973</td> <td>    0.216</td>\n",
       "</tr>\n",
       "<tr>\n",
       "  <th>employment_duration_unemployed</th>  <td>    0.2530</td> <td>    0.466</td> <td>    0.543</td> <td> 0.587</td> <td>   -0.661</td> <td>    1.167</td>\n",
       "</tr>\n",
       "<tr>\n",
       "  <th>other_credit_none</th>               <td>   -0.8016</td> <td>    0.288</td> <td>   -2.785</td> <td> 0.005</td> <td>   -1.366</td> <td>   -0.237</td>\n",
       "</tr>\n",
       "<tr>\n",
       "  <th>other_credit_store</th>              <td>   -0.4577</td> <td>    0.508</td> <td>   -0.900</td> <td> 0.368</td> <td>   -1.454</td> <td>    0.539</td>\n",
       "</tr>\n",
       "<tr>\n",
       "  <th>housing_own</th>                     <td>   -0.5082</td> <td>    0.368</td> <td>   -1.382</td> <td> 0.167</td> <td>   -1.229</td> <td>    0.213</td>\n",
       "</tr>\n",
       "<tr>\n",
       "  <th>housing_rent</th>                    <td>    0.2242</td> <td>    0.416</td> <td>    0.539</td> <td> 0.590</td> <td>   -0.591</td> <td>    1.040</td>\n",
       "</tr>\n",
       "<tr>\n",
       "  <th>job_skilled</th>                     <td>   -0.2237</td> <td>    0.342</td> <td>   -0.654</td> <td> 0.513</td> <td>   -0.894</td> <td>    0.447</td>\n",
       "</tr>\n",
       "<tr>\n",
       "  <th>job_unemployed</th>                  <td>   -0.3962</td> <td>    0.763</td> <td>   -0.519</td> <td> 0.603</td> <td>   -1.891</td> <td>    1.098</td>\n",
       "</tr>\n",
       "<tr>\n",
       "  <th>job_unskilled</th>                   <td>   -0.3252</td> <td>    0.416</td> <td>   -0.782</td> <td> 0.434</td> <td>   -1.140</td> <td>    0.490</td>\n",
       "</tr>\n",
       "<tr>\n",
       "  <th>phone_yes</th>                       <td>   -0.3146</td> <td>    0.245</td> <td>   -1.282</td> <td> 0.200</td> <td>   -0.796</td> <td>    0.166</td>\n",
       "</tr>\n",
       "</table>"
      ],
      "text/plain": [
       "<class 'statsmodels.iolib.summary.Summary'>\n",
       "\"\"\"\n",
       "                           Logit Regression Results                           \n",
       "==============================================================================\n",
       "Dep. Variable:            default_yes   No. Observations:                  700\n",
       "Model:                          Logit   Df Residuals:                      664\n",
       "Method:                           MLE   Df Model:                           35\n",
       "Date:                Fri, 16 Nov 2018   Pseudo R-squ.:                     inf\n",
       "Time:                        23:21:13   Log-Likelihood:                   -inf\n",
       "converged:                      False   LL-Null:                        0.0000\n",
       "                                        LLR p-value:                     1.000\n",
       "===================================================================================================\n",
       "                                      coef    std err          z      P>|z|      [0.025      0.975]\n",
       "---------------------------------------------------------------------------------------------------\n",
       "const                              -1.6949      1.163     -1.458      0.145      -3.974       0.584\n",
       "months_loan_duration                0.0349      0.011      3.131      0.002       0.013       0.057\n",
       "amount                           8.651e-05    5.3e-05      1.632      0.103   -1.74e-05       0.000\n",
       "percent_of_income                   0.4570      0.106      4.317      0.000       0.249       0.664\n",
       "years_at_residence                 -0.0243      0.104     -0.234      0.815      -0.228       0.179\n",
       "age                                -0.0202      0.011     -1.758      0.079      -0.043       0.002\n",
       "existing_loans_count                0.0059      0.228      0.026      0.979      -0.440       0.452\n",
       "dependents                          0.4338      0.284      1.530      0.126      -0.122       0.990\n",
       "checking_balance_< 0 DM             0.5306      0.251      2.111      0.035       0.038       1.023\n",
       "checking_balance_> 200 DM          -0.3724      0.422     -0.883      0.377      -1.199       0.455\n",
       "checking_balance_unknown           -1.2653      0.273     -4.633      0.000      -1.801      -0.730\n",
       "credit_history_good                 0.3074      0.302      1.018      0.309      -0.285       0.900\n",
       "credit_history_perfect              0.7808      0.525      1.489      0.137      -0.247       1.809\n",
       "credit_history_poor                 0.3379      0.403      0.839      0.401      -0.451       1.127\n",
       "credit_history_very good            0.7885      0.489      1.612      0.107      -0.170       1.747\n",
       "purpose_car                         0.0206      0.373      0.055      0.956      -0.711       0.752\n",
       "purpose_car0                       -0.6840      1.046     -0.654      0.513      -2.734       1.366\n",
       "purpose_education                   0.2978      0.520      0.573      0.567      -0.720       1.316\n",
       "purpose_furniture/appliances        0.0406      0.367      0.111      0.912      -0.679       0.761\n",
       "purpose_renovations                 0.0694      0.709      0.098      0.922      -1.320       1.459\n",
       "savings_balance_500 - 1000 DM      -0.3118      0.566     -0.551      0.581      -1.420       0.797\n",
       "savings_balance_< 100 DM            0.2659      0.320      0.830      0.406      -0.362       0.894\n",
       "savings_balance_> 1000 DM         -16.0961    869.503     -0.019      0.985   -1720.291    1688.098\n",
       "savings_balance_unknown            -0.8103      0.415     -1.955      0.051      -1.623       0.002\n",
       "employment_duration_4 - 7 years    -0.9450      0.338     -2.800      0.005      -1.607      -0.283\n",
       "employment_duration_< 1 year        0.3600      0.272      1.322      0.186      -0.174       0.894\n",
       "employment_duration_> 7 years      -0.3783      0.303     -1.247      0.212      -0.973       0.216\n",
       "employment_duration_unemployed      0.2530      0.466      0.543      0.587      -0.661       1.167\n",
       "other_credit_none                  -0.8016      0.288     -2.785      0.005      -1.366      -0.237\n",
       "other_credit_store                 -0.4577      0.508     -0.900      0.368      -1.454       0.539\n",
       "housing_own                        -0.5082      0.368     -1.382      0.167      -1.229       0.213\n",
       "housing_rent                        0.2242      0.416      0.539      0.590      -0.591       1.040\n",
       "job_skilled                        -0.2237      0.342     -0.654      0.513      -0.894       0.447\n",
       "job_unemployed                     -0.3962      0.763     -0.519      0.603      -1.891       1.098\n",
       "job_unskilled                      -0.3252      0.416     -0.782      0.434      -1.140       0.490\n",
       "phone_yes                          -0.3146      0.245     -1.282      0.200      -0.796       0.166\n",
       "===================================================================================================\n",
       "\"\"\""
      ]
     },
     "execution_count": 25,
     "metadata": {},
     "output_type": "execute_result"
    }
   ],
   "source": [
    "lg.summary()"
   ]
  },
  {
   "cell_type": "markdown",
   "metadata": {},
   "source": [
    "### Find significant variables"
   ]
  },
  {
   "cell_type": "code",
   "execution_count": 26,
   "metadata": {},
   "outputs": [],
   "source": [
    "def get_significant_vars( lm ):\n",
    "    var_p_vals_df = pd.DataFrame( lm.pvalues )\n",
    "    var_p_vals_df['vars'] = var_p_vals_df.index\n",
    "    var_p_vals_df.columns = ['pvals', 'vars']\n",
    "    return list( var_p_vals_df[var_p_vals_df.pvals <= 0.05]['vars'] )"
   ]
  },
  {
   "cell_type": "code",
   "execution_count": 27,
   "metadata": {},
   "outputs": [],
   "source": [
    "significant_vars = get_significant_vars( lg )"
   ]
  },
  {
   "cell_type": "code",
   "execution_count": 28,
   "metadata": {},
   "outputs": [
    {
     "data": {
      "text/plain": [
       "['months_loan_duration',\n",
       " 'percent_of_income',\n",
       " 'checking_balance_< 0 DM',\n",
       " 'checking_balance_unknown',\n",
       " 'employment_duration_4 - 7 years',\n",
       " 'other_credit_none']"
      ]
     },
     "execution_count": 28,
     "metadata": {},
     "output_type": "execute_result"
    }
   ],
   "source": [
    "significant_vars"
   ]
  },
  {
   "cell_type": "markdown",
   "metadata": {},
   "source": [
    "### Predict Test Data and Measure Accuracy"
   ]
  },
  {
   "cell_type": "code",
   "execution_count": 29,
   "metadata": {},
   "outputs": [],
   "source": [
    "from sklearn import metrics"
   ]
  },
  {
   "cell_type": "code",
   "execution_count": 30,
   "metadata": {},
   "outputs": [],
   "source": [
    "def get_predictions( y_test, model ):\n",
    "    y_pred_df = pd.DataFrame( { 'actual': y_test,\n",
    "                               \"predicted_prob\": model.predict( sm.add_constant( x_test ) ) } )\n",
    "    return y_pred_df"
   ]
  },
  {
   "cell_type": "code",
   "execution_count": 31,
   "metadata": {},
   "outputs": [],
   "source": [
    "y_pred_df = get_predictions( y_test.default_yes, lg )"
   ]
  },
  {
   "cell_type": "code",
   "execution_count": 32,
   "metadata": {},
   "outputs": [
    {
     "data": {
      "text/html": [
       "<div>\n",
       "<style scoped>\n",
       "    .dataframe tbody tr th:only-of-type {\n",
       "        vertical-align: middle;\n",
       "    }\n",
       "\n",
       "    .dataframe tbody tr th {\n",
       "        vertical-align: top;\n",
       "    }\n",
       "\n",
       "    .dataframe thead th {\n",
       "        text-align: right;\n",
       "    }\n",
       "</style>\n",
       "<table border=\"1\" class=\"dataframe\">\n",
       "  <thead>\n",
       "    <tr style=\"text-align: right;\">\n",
       "      <th></th>\n",
       "      <th>actual</th>\n",
       "      <th>predicted_prob</th>\n",
       "    </tr>\n",
       "  </thead>\n",
       "  <tbody>\n",
       "    <tr>\n",
       "      <th>237</th>\n",
       "      <td>1</td>\n",
       "      <td>0.524270</td>\n",
       "    </tr>\n",
       "    <tr>\n",
       "      <th>552</th>\n",
       "      <td>1</td>\n",
       "      <td>0.294605</td>\n",
       "    </tr>\n",
       "  </tbody>\n",
       "</table>\n",
       "</div>"
      ],
      "text/plain": [
       "     actual  predicted_prob\n",
       "237       1        0.524270\n",
       "552       1        0.294605"
      ]
     },
     "execution_count": 32,
     "metadata": {},
     "output_type": "execute_result"
    }
   ],
   "source": [
    "y_pred_df.head(2)"
   ]
  },
  {
   "cell_type": "markdown",
   "metadata": {},
   "source": [
    "#### Status_1 columns provides the predicted probability for the default classes"
   ]
  },
  {
   "cell_type": "code",
   "execution_count": 33,
   "metadata": {},
   "outputs": [
    {
     "data": {
      "text/html": [
       "<div>\n",
       "<style scoped>\n",
       "    .dataframe tbody tr th:only-of-type {\n",
       "        vertical-align: middle;\n",
       "    }\n",
       "\n",
       "    .dataframe tbody tr th {\n",
       "        vertical-align: top;\n",
       "    }\n",
       "\n",
       "    .dataframe thead th {\n",
       "        text-align: right;\n",
       "    }\n",
       "</style>\n",
       "<table border=\"1\" class=\"dataframe\">\n",
       "  <thead>\n",
       "    <tr style=\"text-align: right;\">\n",
       "      <th></th>\n",
       "      <th>actual</th>\n",
       "      <th>predicted_prob</th>\n",
       "    </tr>\n",
       "  </thead>\n",
       "  <tbody>\n",
       "    <tr>\n",
       "      <th>237</th>\n",
       "      <td>1</td>\n",
       "      <td>5.242697e-01</td>\n",
       "    </tr>\n",
       "    <tr>\n",
       "      <th>552</th>\n",
       "      <td>1</td>\n",
       "      <td>2.946053e-01</td>\n",
       "    </tr>\n",
       "    <tr>\n",
       "      <th>752</th>\n",
       "      <td>0</td>\n",
       "      <td>1.243079e-01</td>\n",
       "    </tr>\n",
       "    <tr>\n",
       "      <th>695</th>\n",
       "      <td>0</td>\n",
       "      <td>3.981464e-02</td>\n",
       "    </tr>\n",
       "    <tr>\n",
       "      <th>229</th>\n",
       "      <td>0</td>\n",
       "      <td>9.237071e-01</td>\n",
       "    </tr>\n",
       "    <tr>\n",
       "      <th>148</th>\n",
       "      <td>0</td>\n",
       "      <td>6.296307e-01</td>\n",
       "    </tr>\n",
       "    <tr>\n",
       "      <th>928</th>\n",
       "      <td>0</td>\n",
       "      <td>3.097879e-02</td>\n",
       "    </tr>\n",
       "    <tr>\n",
       "      <th>721</th>\n",
       "      <td>1</td>\n",
       "      <td>8.919400e-07</td>\n",
       "    </tr>\n",
       "    <tr>\n",
       "      <th>86</th>\n",
       "      <td>0</td>\n",
       "      <td>4.703625e-01</td>\n",
       "    </tr>\n",
       "    <tr>\n",
       "      <th>840</th>\n",
       "      <td>1</td>\n",
       "      <td>5.762131e-01</td>\n",
       "    </tr>\n",
       "  </tbody>\n",
       "</table>\n",
       "</div>"
      ],
      "text/plain": [
       "     actual  predicted_prob\n",
       "237       1    5.242697e-01\n",
       "552       1    2.946053e-01\n",
       "752       0    1.243079e-01\n",
       "695       0    3.981464e-02\n",
       "229       0    9.237071e-01\n",
       "148       0    6.296307e-01\n",
       "928       0    3.097879e-02\n",
       "721       1    8.919400e-07\n",
       "86        0    4.703625e-01\n",
       "840       1    5.762131e-01"
      ]
     },
     "execution_count": 33,
     "metadata": {},
     "output_type": "execute_result"
    }
   ],
   "source": [
    "y_pred_df[0:10]"
   ]
  },
  {
   "cell_type": "code",
   "execution_count": 34,
   "metadata": {},
   "outputs": [],
   "source": [
    "x = y_pred_df.predicted_prob"
   ]
  },
  {
   "cell_type": "code",
   "execution_count": 35,
   "metadata": {},
   "outputs": [],
   "source": [
    "x = x[0:5]"
   ]
  },
  {
   "cell_type": "code",
   "execution_count": 36,
   "metadata": {},
   "outputs": [
    {
     "data": {
      "text/plain": [
       "237    0.524270\n",
       "552    0.294605\n",
       "752    0.124308\n",
       "695    0.039815\n",
       "229    0.923707\n",
       "Name: predicted_prob, dtype: float64"
      ]
     },
     "execution_count": 36,
     "metadata": {},
     "output_type": "execute_result"
    }
   ],
   "source": [
    "x"
   ]
  },
  {
   "cell_type": "code",
   "execution_count": 37,
   "metadata": {},
   "outputs": [
    {
     "data": {
      "text/plain": [
       "237    1\n",
       "552    1\n",
       "752    1\n",
       "695    0\n",
       "229    1\n",
       "Name: predicted_prob, dtype: int64"
      ]
     },
     "execution_count": 37,
     "metadata": {},
     "output_type": "execute_result"
    }
   ],
   "source": [
    "x.map(lambda x: 1 if x > 0.1 else 0)"
   ]
  },
  {
   "cell_type": "code",
   "execution_count": 140,
   "metadata": {},
   "outputs": [],
   "source": [
    "y_pred_df['predicted'] = y_pred_df.predicted_prob.map( lambda x: 1 if x > 0.15 else 0)"
   ]
  },
  {
   "cell_type": "code",
   "execution_count": 141,
   "metadata": {},
   "outputs": [
    {
     "data": {
      "text/html": [
       "<div>\n",
       "<style scoped>\n",
       "    .dataframe tbody tr th:only-of-type {\n",
       "        vertical-align: middle;\n",
       "    }\n",
       "\n",
       "    .dataframe tbody tr th {\n",
       "        vertical-align: top;\n",
       "    }\n",
       "\n",
       "    .dataframe thead th {\n",
       "        text-align: right;\n",
       "    }\n",
       "</style>\n",
       "<table border=\"1\" class=\"dataframe\">\n",
       "  <thead>\n",
       "    <tr style=\"text-align: right;\">\n",
       "      <th></th>\n",
       "      <th>actual</th>\n",
       "      <th>predicted_prob</th>\n",
       "      <th>predicted</th>\n",
       "    </tr>\n",
       "  </thead>\n",
       "  <tbody>\n",
       "    <tr>\n",
       "      <th>237</th>\n",
       "      <td>1</td>\n",
       "      <td>5.242697e-01</td>\n",
       "      <td>1</td>\n",
       "    </tr>\n",
       "    <tr>\n",
       "      <th>552</th>\n",
       "      <td>1</td>\n",
       "      <td>2.946053e-01</td>\n",
       "      <td>1</td>\n",
       "    </tr>\n",
       "    <tr>\n",
       "      <th>752</th>\n",
       "      <td>0</td>\n",
       "      <td>1.243079e-01</td>\n",
       "      <td>0</td>\n",
       "    </tr>\n",
       "    <tr>\n",
       "      <th>695</th>\n",
       "      <td>0</td>\n",
       "      <td>3.981464e-02</td>\n",
       "      <td>0</td>\n",
       "    </tr>\n",
       "    <tr>\n",
       "      <th>229</th>\n",
       "      <td>0</td>\n",
       "      <td>9.237071e-01</td>\n",
       "      <td>1</td>\n",
       "    </tr>\n",
       "    <tr>\n",
       "      <th>148</th>\n",
       "      <td>0</td>\n",
       "      <td>6.296307e-01</td>\n",
       "      <td>1</td>\n",
       "    </tr>\n",
       "    <tr>\n",
       "      <th>928</th>\n",
       "      <td>0</td>\n",
       "      <td>3.097879e-02</td>\n",
       "      <td>0</td>\n",
       "    </tr>\n",
       "    <tr>\n",
       "      <th>721</th>\n",
       "      <td>1</td>\n",
       "      <td>8.919400e-07</td>\n",
       "      <td>0</td>\n",
       "    </tr>\n",
       "    <tr>\n",
       "      <th>86</th>\n",
       "      <td>0</td>\n",
       "      <td>4.703625e-01</td>\n",
       "      <td>1</td>\n",
       "    </tr>\n",
       "    <tr>\n",
       "      <th>840</th>\n",
       "      <td>1</td>\n",
       "      <td>5.762131e-01</td>\n",
       "      <td>1</td>\n",
       "    </tr>\n",
       "  </tbody>\n",
       "</table>\n",
       "</div>"
      ],
      "text/plain": [
       "     actual  predicted_prob  predicted\n",
       "237       1    5.242697e-01          1\n",
       "552       1    2.946053e-01          1\n",
       "752       0    1.243079e-01          0\n",
       "695       0    3.981464e-02          0\n",
       "229       0    9.237071e-01          1\n",
       "148       0    6.296307e-01          1\n",
       "928       0    3.097879e-02          0\n",
       "721       1    8.919400e-07          0\n",
       "86        0    4.703625e-01          1\n",
       "840       1    5.762131e-01          1"
      ]
     },
     "execution_count": 141,
     "metadata": {},
     "output_type": "execute_result"
    }
   ],
   "source": [
    "y_pred_df[0:10]"
   ]
  },
  {
   "cell_type": "markdown",
   "metadata": {},
   "source": [
    "### Create confusion matrix"
   ]
  },
  {
   "cell_type": "code",
   "execution_count": 142,
   "metadata": {},
   "outputs": [
    {
     "data": {
      "text/plain": [
       "array([[111,  97],\n",
       "       [ 21,  71]], dtype=int64)"
      ]
     },
     "execution_count": 142,
     "metadata": {},
     "output_type": "execute_result"
    }
   ],
   "source": [
    "cMatrix = metrics.confusion_matrix( y_pred_df.actual, y_pred_df.predicted )\n",
    "cMatrix"
   ]
  },
  {
   "cell_type": "markdown",
   "metadata": {
    "collapsed": true
   },
   "source": [
    "Note: the model could only predict very few default classes."
   ]
  },
  {
   "cell_type": "markdown",
   "metadata": {
    "collapsed": true
   },
   "source": [
    "#### Overall accuracy of the model "
   ]
  },
  {
   "cell_type": "code",
   "execution_count": 143,
   "metadata": {},
   "outputs": [
    {
     "name": "stdout",
     "output_type": "stream",
     "text": [
      "Total Accuracy :  0.61\n"
     ]
    }
   ],
   "source": [
    "print( 'Total Accuracy : ',np.round( metrics.accuracy_score( y_test, y_pred_df.predicted ), 2 ) )"
   ]
  },
  {
   "cell_type": "code",
   "execution_count": 146,
   "metadata": {},
   "outputs": [
    {
     "name": "stdout",
     "output_type": "stream",
     "text": [
      "False Negative Percentage: 7.00\n",
      "False Positive Percentage: 32.33\n"
     ]
    }
   ],
   "source": [
    "FN = ((cMatrix[1][0])/(cMatrix.sum()))*100\n",
    "print('False Negative Percentage: %.2f' %(FN))\n",
    "\n",
    "FP = ((cMatrix[0][1])/(cMatrix.sum()))*100\n",
    "print('False Positive Percentage: %.2f' %(FP))"
   ]
  },
  {
   "cell_type": "code",
   "execution_count": null,
   "metadata": {},
   "outputs": [],
   "source": []
  },
  {
   "cell_type": "code",
   "execution_count": null,
   "metadata": {},
   "outputs": [],
   "source": []
  },
  {
   "cell_type": "code",
   "execution_count": null,
   "metadata": {},
   "outputs": [],
   "source": []
  }
 ],
 "metadata": {
  "kernelspec": {
   "display_name": "Python 3",
   "language": "python",
   "name": "python3"
  },
  "language_info": {
   "codemirror_mode": {
    "name": "ipython",
    "version": 3
   },
   "file_extension": ".py",
   "mimetype": "text/x-python",
   "name": "python",
   "nbconvert_exporter": "python",
   "pygments_lexer": "ipython3",
   "version": "3.7.0"
  }
 },
 "nbformat": 4,
 "nbformat_minor": 2
}
